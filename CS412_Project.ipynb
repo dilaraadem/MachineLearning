{
  "nbformat": 4,
  "nbformat_minor": 0,
  "metadata": {
    "colab": {
      "name": "Copy9 of CS412_Project.ipynb",
      "version": "0.3.2",
      "provenance": [],
      "collapsed_sections": [],
      "include_colab_link": true
    },
    "kernelspec": {
      "name": "python3",
      "display_name": "Python 3"
    },
    "accelerator": "GPU"
  },
  "cells": [
    {
      "cell_type": "markdown",
      "metadata": {
        "id": "view-in-github",
        "colab_type": "text"
      },
      "source": [
        "<a href=\"https://colab.research.google.com/github/dilaraadem/MachineLearning/blob/master/Copy9_of_CS412_Project.ipynb\" target=\"_parent\"><img src=\"https://colab.research.google.com/assets/colab-badge.svg\" alt=\"Open In Colab\"/></a>"
      ]
    },
    {
      "metadata": {
        "id": "JgyJEI5djmwv",
        "colab_type": "text"
      },
      "cell_type": "markdown",
      "source": [
        "# 412 Project - 2\n",
        "* Dilara Ademoğlu - 20620\n",
        "* Sena Necla Çetin -  21120\n",
        "* Berk Yağlıoğlu - 19176\n",
        "* Ömer Serhat Dai - 20985\n",
        "\n"
      ]
    },
    {
      "metadata": {
        "id": "sK7tUXYasp5r",
        "colab_type": "text"
      },
      "cell_type": "markdown",
      "source": [
        "# **We want to classify**\n",
        "Classify a given credit applicant as -1 (will pay) or +1 (will not pay), based on their application\n",
        "data such as their debt, salary... The target label is called Charged_Off and is -1 for good applicants\n",
        "who pay their debts, and +1 for bad applicants who don’t."
      ]
    },
    {
      "metadata": {
        "id": "H5U75fgfQvTC",
        "colab_type": "text"
      },
      "cell_type": "markdown",
      "source": [
        "# Reading the data from the files\n",
        "First we read the data for training from the csv files."
      ]
    },
    {
      "metadata": {
        "id": "xUxgGo8W5e-a",
        "colab_type": "code",
        "colab": {}
      },
      "cell_type": "code",
      "source": [
        "import pandas as pd\n",
        "import numpy as np"
      ],
      "execution_count": 0,
      "outputs": []
    },
    {
      "metadata": {
        "id": "dpZ7BdB192sM",
        "colab_type": "code",
        "outputId": "37b97f88-0616-427c-dc19-7f5a01d326b9",
        "colab": {
          "base_uri": "https://localhost:8080/",
          "height": 90
        }
      },
      "cell_type": "code",
      "source": [
        "data = pd.read_csv('TrainPortion_Data.csv') #change to drive link if needed\n",
        "label = pd.read_csv('TrainPortion_Label_.csv')\n",
        "print(\"Data shape: \", data.shape)"
      ],
      "execution_count": 0,
      "outputs": [
        {
          "output_type": "stream",
          "text": [
            "Data shape:  (537870, 45)\n"
          ],
          "name": "stdout"
        },
        {
          "output_type": "stream",
          "text": [
            "/usr/local/lib/python3.6/dist-packages/IPython/core/interactiveshell.py:2718: DtypeWarning: Columns (9) have mixed types. Specify dtype option on import or set low_memory=False.\n",
            "  interactivity=interactivity, compiler=compiler, result=result)\n"
          ],
          "name": "stderr"
        }
      ]
    },
    {
      "metadata": {
        "id": "yXgoSBBnxJkR",
        "colab_type": "text"
      },
      "cell_type": "markdown",
      "source": [
        "## Show data\n",
        "Showing the data and checking the attributes and values in the data by using .info() function."
      ]
    },
    {
      "metadata": {
        "id": "eG6VncxH-PVc",
        "colab_type": "code",
        "outputId": "6bf01aed-d13c-4b7b-b399-55dde608066d",
        "colab": {
          "base_uri": "https://localhost:8080/",
          "height": 330
        }
      },
      "cell_type": "code",
      "source": [
        "data.head(5)"
      ],
      "execution_count": 0,
      "outputs": [
        {
          "output_type": "execute_result",
          "data": {
            "text/html": [
              "<div>\n",
              "<style scoped>\n",
              "    .dataframe tbody tr th:only-of-type {\n",
              "        vertical-align: middle;\n",
              "    }\n",
              "\n",
              "    .dataframe tbody tr th {\n",
              "        vertical-align: top;\n",
              "    }\n",
              "\n",
              "    .dataframe thead th {\n",
              "        text-align: right;\n",
              "    }\n",
              "</style>\n",
              "<table border=\"1\" class=\"dataframe\">\n",
              "  <thead>\n",
              "    <tr style=\"text-align: right;\">\n",
              "      <th></th>\n",
              "      <th>id</th>\n",
              "      <th>loan_amnt</th>\n",
              "      <th>term</th>\n",
              "      <th>installment</th>\n",
              "      <th>emp_title</th>\n",
              "      <th>emp_length</th>\n",
              "      <th>home_ownership</th>\n",
              "      <th>annual_inc</th>\n",
              "      <th>verification_status</th>\n",
              "      <th>desc</th>\n",
              "      <th>...</th>\n",
              "      <th>acc_open_past_24mths</th>\n",
              "      <th>avg_cur_bal</th>\n",
              "      <th>chargeoff_within_12_mths</th>\n",
              "      <th>delinq_amnt</th>\n",
              "      <th>mort_acc</th>\n",
              "      <th>pub_rec_bankruptcies</th>\n",
              "      <th>tot_hi_cred_lim</th>\n",
              "      <th>total_bal_ex_mort</th>\n",
              "      <th>total_bc_limit</th>\n",
              "      <th>total_il_high_credit_limit</th>\n",
              "    </tr>\n",
              "  </thead>\n",
              "  <tbody>\n",
              "    <tr>\n",
              "      <th>0</th>\n",
              "      <td>168588</td>\n",
              "      <td>10000.0</td>\n",
              "      <td>36 months</td>\n",
              "      <td>308.73</td>\n",
              "      <td>QA Analyst</td>\n",
              "      <td>3 years</td>\n",
              "      <td>RENT</td>\n",
              "      <td>51000.0</td>\n",
              "      <td>Not Verified</td>\n",
              "      <td>NaN</td>\n",
              "      <td>...</td>\n",
              "      <td>6.0</td>\n",
              "      <td>4054.0</td>\n",
              "      <td>0.0</td>\n",
              "      <td>0.0</td>\n",
              "      <td>0.0</td>\n",
              "      <td>0.0</td>\n",
              "      <td>66394.0</td>\n",
              "      <td>40537.0</td>\n",
              "      <td>21400.0</td>\n",
              "      <td>39894.0</td>\n",
              "    </tr>\n",
              "    <tr>\n",
              "      <th>1</th>\n",
              "      <td>897426</td>\n",
              "      <td>20000.0</td>\n",
              "      <td>60 months</td>\n",
              "      <td>489.45</td>\n",
              "      <td>Sales Manager</td>\n",
              "      <td>3 years</td>\n",
              "      <td>MORTGAGE</td>\n",
              "      <td>90000.0</td>\n",
              "      <td>Source Verified</td>\n",
              "      <td>NaN</td>\n",
              "      <td>...</td>\n",
              "      <td>6.0</td>\n",
              "      <td>20263.0</td>\n",
              "      <td>0.0</td>\n",
              "      <td>0.0</td>\n",
              "      <td>1.0</td>\n",
              "      <td>0.0</td>\n",
              "      <td>370890.0</td>\n",
              "      <td>111757.0</td>\n",
              "      <td>20800.0</td>\n",
              "      <td>119086.0</td>\n",
              "    </tr>\n",
              "    <tr>\n",
              "      <th>2</th>\n",
              "      <td>855123</td>\n",
              "      <td>30000.0</td>\n",
              "      <td>36 months</td>\n",
              "      <td>1032.49</td>\n",
              "      <td>VP of Marketing</td>\n",
              "      <td>3 years</td>\n",
              "      <td>OWN</td>\n",
              "      <td>90980.0</td>\n",
              "      <td>Verified</td>\n",
              "      <td>NaN</td>\n",
              "      <td>...</td>\n",
              "      <td>0.0</td>\n",
              "      <td>1223.0</td>\n",
              "      <td>0.0</td>\n",
              "      <td>0.0</td>\n",
              "      <td>0.0</td>\n",
              "      <td>0.0</td>\n",
              "      <td>31800.0</td>\n",
              "      <td>7340.0</td>\n",
              "      <td>25800.0</td>\n",
              "      <td>0.0</td>\n",
              "    </tr>\n",
              "    <tr>\n",
              "      <th>3</th>\n",
              "      <td>806869</td>\n",
              "      <td>21000.0</td>\n",
              "      <td>60 months</td>\n",
              "      <td>503.02</td>\n",
              "      <td>IT Analyst</td>\n",
              "      <td>8 years</td>\n",
              "      <td>MORTGAGE</td>\n",
              "      <td>124000.0</td>\n",
              "      <td>Not Verified</td>\n",
              "      <td>NaN</td>\n",
              "      <td>...</td>\n",
              "      <td>4.0</td>\n",
              "      <td>42401.0</td>\n",
              "      <td>0.0</td>\n",
              "      <td>0.0</td>\n",
              "      <td>7.0</td>\n",
              "      <td>0.0</td>\n",
              "      <td>281786.0</td>\n",
              "      <td>47519.0</td>\n",
              "      <td>23500.0</td>\n",
              "      <td>33836.0</td>\n",
              "    </tr>\n",
              "    <tr>\n",
              "      <th>4</th>\n",
              "      <td>477407</td>\n",
              "      <td>12775.0</td>\n",
              "      <td>36 months</td>\n",
              "      <td>450.97</td>\n",
              "      <td>Ass manager</td>\n",
              "      <td>&lt; 1 year</td>\n",
              "      <td>RENT</td>\n",
              "      <td>35500.0</td>\n",
              "      <td>Source Verified</td>\n",
              "      <td>NaN</td>\n",
              "      <td>...</td>\n",
              "      <td>2.0</td>\n",
              "      <td>1162.0</td>\n",
              "      <td>0.0</td>\n",
              "      <td>0.0</td>\n",
              "      <td>0.0</td>\n",
              "      <td>0.0</td>\n",
              "      <td>21754.0</td>\n",
              "      <td>5809.0</td>\n",
              "      <td>4700.0</td>\n",
              "      <td>10054.0</td>\n",
              "    </tr>\n",
              "  </tbody>\n",
              "</table>\n",
              "<p>5 rows × 45 columns</p>\n",
              "</div>"
            ],
            "text/plain": [
              "       id  loan_amnt        term  installment        emp_title emp_length  \\\n",
              "0  168588    10000.0   36 months       308.73       QA Analyst    3 years   \n",
              "1  897426    20000.0   60 months       489.45    Sales Manager    3 years   \n",
              "2  855123    30000.0   36 months      1032.49  VP of Marketing    3 years   \n",
              "3  806869    21000.0   60 months       503.02       IT Analyst    8 years   \n",
              "4  477407    12775.0   36 months       450.97     Ass manager    < 1 year   \n",
              "\n",
              "  home_ownership  annual_inc verification_status desc  \\\n",
              "0           RENT     51000.0        Not Verified  NaN   \n",
              "1       MORTGAGE     90000.0     Source Verified  NaN   \n",
              "2            OWN     90980.0            Verified  NaN   \n",
              "3       MORTGAGE    124000.0        Not Verified  NaN   \n",
              "4           RENT     35500.0     Source Verified  NaN   \n",
              "\n",
              "              ...             acc_open_past_24mths avg_cur_bal  \\\n",
              "0             ...                              6.0      4054.0   \n",
              "1             ...                              6.0     20263.0   \n",
              "2             ...                              0.0      1223.0   \n",
              "3             ...                              4.0     42401.0   \n",
              "4             ...                              2.0      1162.0   \n",
              "\n",
              "  chargeoff_within_12_mths delinq_amnt  mort_acc  pub_rec_bankruptcies  \\\n",
              "0                      0.0         0.0       0.0                   0.0   \n",
              "1                      0.0         0.0       1.0                   0.0   \n",
              "2                      0.0         0.0       0.0                   0.0   \n",
              "3                      0.0         0.0       7.0                   0.0   \n",
              "4                      0.0         0.0       0.0                   0.0   \n",
              "\n",
              "  tot_hi_cred_lim  total_bal_ex_mort  total_bc_limit  \\\n",
              "0         66394.0            40537.0         21400.0   \n",
              "1        370890.0           111757.0         20800.0   \n",
              "2         31800.0             7340.0         25800.0   \n",
              "3        281786.0            47519.0         23500.0   \n",
              "4         21754.0             5809.0          4700.0   \n",
              "\n",
              "   total_il_high_credit_limit  \n",
              "0                     39894.0  \n",
              "1                    119086.0  \n",
              "2                         0.0  \n",
              "3                     33836.0  \n",
              "4                     10054.0  \n",
              "\n",
              "[5 rows x 45 columns]"
            ]
          },
          "metadata": {
            "tags": []
          },
          "execution_count": 132
        }
      ]
    },
    {
      "metadata": {
        "id": "4yNCckM_ko5T",
        "colab_type": "code",
        "outputId": "1af381a2-6495-4d2c-b7f5-026d1d1859df",
        "colab": {
          "base_uri": "https://localhost:8080/",
          "height": 905
        }
      },
      "cell_type": "code",
      "source": [
        "# check the types of data columns\n",
        "data.info()"
      ],
      "execution_count": 0,
      "outputs": [
        {
          "output_type": "stream",
          "text": [
            "<class 'pandas.core.frame.DataFrame'>\n",
            "RangeIndex: 537870 entries, 0 to 537869\n",
            "Data columns (total 45 columns):\n",
            "id                            537870 non-null int64\n",
            "loan_amnt                     537870 non-null float64\n",
            "term                          537870 non-null object\n",
            "installment                   537870 non-null float64\n",
            "emp_title                     505820 non-null object\n",
            "emp_length                    505957 non-null object\n",
            "home_ownership                537870 non-null object\n",
            "annual_inc                    537870 non-null float64\n",
            "verification_status           537870 non-null object\n",
            "desc                          55 non-null object\n",
            "purpose                       537870 non-null object\n",
            "title                         526025 non-null object\n",
            "zip_code                      537870 non-null object\n",
            "addr_state                    537870 non-null object\n",
            "dti                           537843 non-null float64\n",
            "delinq_2yrs                   537870 non-null float64\n",
            "earliest_cr_line              537870 non-null object\n",
            "inq_last_6mths                537869 non-null float64\n",
            "open_acc                      537870 non-null float64\n",
            "pub_rec                       537870 non-null float64\n",
            "total_acc                     537870 non-null float64\n",
            "initial_list_status           537870 non-null object\n",
            "application_type              537870 non-null object\n",
            "annual_inc_joint              4136 non-null float64\n",
            "dti_joint                     4136 non-null float64\n",
            "acc_now_delinq                537870 non-null float64\n",
            "tot_coll_amt                  537870 non-null float64\n",
            "tot_cur_bal                   537870 non-null float64\n",
            "total_bal_il                  226930 non-null float64\n",
            "il_util                       198708 non-null float64\n",
            "max_bal_bc                    226930 non-null float64\n",
            "all_util                      226915 non-null float64\n",
            "inq_fi                        226930 non-null float64\n",
            "total_cu_tl                   226929 non-null float64\n",
            "inq_last_12m                  226929 non-null float64\n",
            "acc_open_past_24mths          537870 non-null float64\n",
            "avg_cur_bal                   537870 non-null float64\n",
            "chargeoff_within_12_mths      537870 non-null float64\n",
            "delinq_amnt                   537870 non-null float64\n",
            "mort_acc                      537870 non-null float64\n",
            "pub_rec_bankruptcies          537870 non-null float64\n",
            "tot_hi_cred_lim               537870 non-null float64\n",
            "total_bal_ex_mort             537870 non-null float64\n",
            "total_bc_limit                537870 non-null float64\n",
            "total_il_high_credit_limit    537870 non-null float64\n",
            "dtypes: float64(31), int64(1), object(13)\n",
            "memory usage: 184.7+ MB\n"
          ],
          "name": "stdout"
        }
      ]
    },
    {
      "metadata": {
        "id": "h4h_TBjHp6Ex",
        "colab_type": "text"
      },
      "cell_type": "markdown",
      "source": [
        "# About Data\n",
        "We have looked into the data and we observed that there are a lot of missing attributes and categorical features, which might lead to errors. So we edited the data.\n",
        "\n",
        "##Total 13 \"object\" types\n",
        "* emp_title => Make binary\n",
        "* emp_length => Create 4 binary attributes, drop emp_length\n",
        "* desc => drop it **(DROPPED)**\n",
        "* title => Drop it **(DROPPED)**\n",
        "* term => Make binary\n",
        "* home_ownership => Create 3 binary attributes, do not include attribute for \"ANY\", drop home_ownership\n",
        "* verification_status => Create 2 binary attributes, do not include attribute for \"Not Verified\", drop verification_status\n",
        "* purpose => Create 11 binary attributes, do not include attribute for \"other\", drop purpose \n",
        "* zip_code => Drop it **(DROPPED)**\n",
        "* addr_state => Drop it **(DROPPED)**\n",
        "* earliest_cr_line => Get the last 4 digit as the year, create 3 binary attributes, drop earliest_cr_line \n",
        "* initial_list_status => Make binary\n",
        "* application_type => Make binary\n",
        "\n",
        "Drop attributes \"id\", \"title\", \"desc\", \"zip_code\", \"addr_state\".\n",
        "\n",
        "##Total 11 missing attributes\n",
        "* annual_inc_joint and dti_joint have been replaced with dummy variables.\n",
        "* Rest of the list have been normalized:\n",
        "> * dti\n",
        "> * inc_last_6mths\n",
        "> * total_bal_il\n",
        "> * il_util\n",
        "> * max_bal_bc\n",
        "> * all_util \n",
        "> * inq_fi\n",
        "> * total_cu_tl \n",
        "> * inq_last_12m\n",
        "\n",
        "While testing the data, we realized that attribute \"earliest_cr_line\" is string type in csv file, but it is converted as datetime type from excel file. This led to error while converting it to a processable format. So we had to put an if condition to check if its string or not. It worked with given test data.\n"
      ]
    },
    {
      "metadata": {
        "id": "xeP1R46Xh8Jh",
        "colab_type": "text"
      },
      "cell_type": "markdown",
      "source": [
        "# Editing\n",
        "We have defined 2 functions, one to edit the data to do the preprocessing and other to normalize the data in the columns.\n",
        "The editData function takes the data read from csv and it applies preprocessing to all the attributes. \n",
        "* **The columns that have dropped:** id, title, desc, zip_code, addr_state\n",
        "* **The columns that have been binarized:** emp_title, term, initial_list_status, application_type,\n",
        "*  **The columns that have replaced with dummy attributes:** emp_length, home_ownership, verification_status, purpose, earliest_cr_line\n",
        "* **The columns that have normalized:** loan_amnt, installment, annual_inc, delinq_2yrs, open_acc, pub_rec, total_acc, acc_now_delinq, tot_cur_bal, acc_open_past_24mths, avg_cur_bal, chargeoff_within_12_mths, delinq_amnt, mort_acc, pub_rec_bankruptcies, tot_hi_cred_lim, total_bal_ex_mort, total_bc_limit, total_il_high_credit_limit, dti, inc_last_6mths,  annual_inc_joint, dti_joint, total_bal_il, il_util, max_bal_bc, all_util, inq_fi, total_cu_tl, inq_last_12m\n",
        "\n",
        "For normalizing we defined a function that calculates the max value and min value of the chosen column in training data, then if the max value in the chosen part of the data is bigger than the current max, it replaces the new max data as 1 and does scaling according to that.\n",
        "\n",
        "While creating dummy variables we calculated the mean and standard deviations of the attributes and divided the dummys accordingly."
      ]
    },
    {
      "metadata": {
        "id": "wf_CTvVrpkQn",
        "colab_type": "code",
        "colab": {}
      },
      "cell_type": "code",
      "source": [
        "def normalize(data2, column): #function for normalizing the data in the column\n",
        "  maxValue = data[column].max()\n",
        "  minValue = data[column].min()\n",
        "  data2[column] = np.where(data2[column] >= maxValue, 1, np.where(data2[column] <= minValue, 0, (data2[column]-minValue)/(maxValue-minValue)))\n",
        "\n",
        "def editData(data):\n",
        "  #ID\n",
        "  # column size is decreased by 1\n",
        "  data.drop(['id'], axis=1, inplace=True)\n",
        "\n",
        "  # ---------------------------------------------------------------\n",
        "  # OBJECT & MISSING ATT\n",
        "\n",
        "  #EMPLOYEE_TITLE --- DONE\n",
        "  # make 0 or 1 \n",
        "  data[\"emp_title\"]=np.where(data[\"emp_title\"]==\"\", 0, 1)\n",
        "\n",
        "  #EMPLOYMENT LENGHT --- DONE\n",
        "  # create dummy attributes\n",
        "  # column size is increased by 3 in total\n",
        "  data['emp_length_<1'] = np.where(data[\"emp_length\"]==\"< 1 year\", 1, 0)\n",
        "  data['emp_length_<=3'] = np.where(np.logical_or(np.logical_or(data[\"emp_length\"]==\"1 year\", data[\"emp_length\"]==\"2 years\"), data[\"emp_length\"]==\"3 years\"), 1, 0)\n",
        "  data['emp_length_<=9'] = np.where(np.logical_or(np.logical_or(np.logical_or(np.logical_or(np.logical_or(data[\"emp_length\"]==\"4 years\", data[\"emp_length\"]==\"5 years\"), data[\"emp_length\"]==\"6 years\"), data[\"emp_length\"]==\"7 years\"), data[\"emp_length\"]==\"8 years\"), data[\"emp_length\"]==\"9 years\"), 1, 0)\n",
        "  data['emp_length_>=10'] = np.where(data[\"emp_length\"]==\"10+ years\", 1, 0)\n",
        "  # drop emp_length\n",
        "  data.drop(['emp_length'], axis=1, inplace=True)\n",
        "\n",
        "\n",
        "  #DESCRIPTION --- DONE\n",
        "  # If no desc 0, if desc 1.\n",
        "  # data[\"desc\"]=np.where(data[\"desc\"].isna(), 0, 1)\n",
        "  data.drop(['desc'], axis=1, inplace =True)\n",
        "\n",
        "  #TITLE --- DONE\n",
        "  # column size is decreased by 1\n",
        "  data.drop(['title'], axis=1, inplace=True)\n",
        "\n",
        "  # ---------------------------------------------------------------\n",
        "  # OBJECT\n",
        "\n",
        "  #TERM --- DONE\n",
        "  # convert \"term\" values to integers 36 and 60\n",
        "  data[\"term\"] = np.where(data[\"term\"] == \" 36 months\", 0, 1) #HELL YEAH\n",
        "  #36 60 yerine 0 or 1 daha accurate olabilir.\n",
        "\n",
        "  #HOME OWNERSHIPS --- DONE\n",
        "  # create dummy attributes\n",
        "  # do not include column for \"ANY\"\n",
        "  # column size is increased by 2 in total\n",
        "  data[\"HO_RENT\"] = np.where(data[\"home_ownership\"] == \"RENT\", 1, 0)\n",
        "  data[\"HO_MORT\"] = np.where(data[\"home_ownership\"] == \"MORTGAGE\", 1, 0)\n",
        "  data[\"HO_OWN\"] = np.where(data[\"home_ownership\"] == \"OWN\", 1, 0)\n",
        "  # drop home_ownership\n",
        "  data.drop(['home_ownership'], axis=1, inplace=True)\n",
        "\n",
        "  #VERIFICATION STATUS --- DONE\n",
        "  # create dummy attributes\n",
        "  # do not include column for \"Not Verified\"\n",
        "  # column size is increased by 1 in total\n",
        "  data[\"VS_source_verified\"] = np.where(data[\"verification_status\"]==\"Source Verified\", 1, 0)\n",
        "  data[\"VS_verified\"] = np.where(data[\"verification_status\"]==\"Verified\", 1, 0)\n",
        "  # drop verification_status\n",
        "  data.drop(['verification_status'], axis=1, inplace=True)\n",
        "\n",
        "  #PURPOSE --- DONE\n",
        "  # create dummy attributes\n",
        "  # do not include column for \"other\"\n",
        "  # column size is increased by 10 in total\n",
        "  data[\"purpose_debt_consolidation\"] = np.where(data[\"purpose\"]==\"debt_consolidation\", 1, 0)\n",
        "  data[\"purpose_medical\"] = np.where(data[\"purpose\"]==\"medical\", 1, 0)\n",
        "  data[\"purpose_moving\"] = np.where(data[\"purpose\"]==\"moving\", 1, 0)\n",
        "  data[\"purpose_car\"] = np.where(data[\"purpose\"]==\"car\", 1, 0)\n",
        "  data[\"purpose_house\"] = np.where(data[\"purpose\"]==\"house\", 1, 0)\n",
        "  data[\"purpose_vacation\"] = np.where(data[\"purpose\"]==\"vacation\", 1, 0)\n",
        "  data[\"purpose_renewable_energy\"] = np.where(data[\"purpose\"]==\"renewable_energy\", 1, 0)\n",
        "  data[\"purpose_small_business\"] = np.where(data[\"purpose\"]==\"small_business\", 1, 0)\n",
        "  data[\"purpose_major_purchase\"] = np.where(data[\"purpose\"]==\"major_purchase\", 1, 0)\n",
        "  data[\"purpose_home_improvement\"] = np.where(data[\"purpose\"]==\"home_improvement\", 1, 0)\n",
        "  data[\"purpose_credit_card\"] = np.where(data[\"purpose\"]==\"credit_card\", 1, 0)\n",
        "  # drop purpose\n",
        "  data.drop(['purpose'], axis=1, inplace=True)\n",
        "\n",
        "  #ZIP CODE --- DONE\n",
        "  # column size is decreased by 1\n",
        "  data.drop(['zip_code'], axis=1, inplace=True)\n",
        "\n",
        "  #ADRESS STATE --- DONE\n",
        "  # column size is decreased by 1\n",
        "  data.drop(['addr_state'], axis=1, inplace=True)  \n",
        "\n",
        "  #INITIAL LIST --- DONE\n",
        "  # If w = 1, f = 0\n",
        "  data[\"initial_list_status\"]=np.where(data[\"initial_list_status\"]==\"w\", 1, 0)\n",
        "\n",
        "  #APPLICATION TYPE --- DONE\n",
        "  # If Individual 1, if Joint 0\n",
        "  data[\"application_type\"]=np.where(data[\"application_type\"]==\"Individual\", 1, 0)\n",
        "\n",
        "  \n",
        "  #EARLIEST CREDIT LINE --- DONE\n",
        "  # mean = 1999, std = 7.5\n",
        "  # column size is increased by 2 in total\n",
        "  if(type(data.at[1,'earliest_cr_line']) is str):\n",
        "    data[\"earliest_cr_line\"] = data[\"earliest_cr_line\"].astype(str).str[4:] #if len is 8 string type\n",
        "  else:\n",
        "    data[\"earliest_cr_line\"] = data[\"earliest_cr_line\"].astype(str).str[:4] #if len is 10 is datetime type\n",
        "  data[\"earliest_cr_line\"] = data[\"earliest_cr_line\"].astype('int')\n",
        "  data[\"cr_line_>=1990\"] = np.where(np.logical_and(data[\"earliest_cr_line\"]>=1990, data[\"earliest_cr_line\"]<2000), 1, 0)\n",
        "  data[\"cr_line_>=2000\"] = np.where(np.logical_and(data[\"earliest_cr_line\"]>=2000, data[\"earliest_cr_line\"]<2010), 1, 0)\n",
        "  data[\"cr_line_>=2010\"] = np.where(data[\"earliest_cr_line\"]>=2010, 1, 0)\n",
        "  # drop earliest_cr_line\n",
        "  data.drop(['earliest_cr_line'], axis=1, inplace=True)\n",
        "  \n",
        "  \n",
        "  # ---------------------------------------------------------------\n",
        "  # MISSING ATT\n",
        "\n",
        "  # DTI --- DONE\n",
        "  # mean = 18.84869355927287, std = 9.426988046239924\n",
        "  med_dti = data['dti'].median()\n",
        "  data['dti'] = np.where(data['dti'].isna(), med_dti, data['dti'])\n",
        "  normalize(data, 'dti')\n",
        "\n",
        "  #INQ_LAST_6MNTS --- DONE\n",
        "  # mean = 0.6066867582998834 std = 0.8954389046802925\n",
        "  # range 0.0 to 6.0\n",
        "  med_inq_last_6mths = data['inq_last_6mths'].median()\n",
        "  data['inq_last_6mths'] = np.where(data['inq_last_6mths'].isna(), med_inq_last_6mths, data['inq_last_6mths'])\n",
        "  normalize(data, 'inq_last_6mths')\n",
        "\n",
        "  # IL_UTIL --- DONE\n",
        "  # mean = 72.6014403043662, std = 22.24876513680371\n",
        "  #range il_util 0.0 558.0\n",
        "  med_il_util = data['il_util'].median()\n",
        "  data['il_util'] = np.where(data['il_util'].isna(), med_il_util, data['il_util'])\n",
        "  normalize(data, 'il_util')\n",
        "\n",
        "  # DTI_JOINT & ANNUAL_INC_JOINT --- DONE\n",
        "  #range dti_joint 0.69 to 69.49\n",
        "  #range annual_inc_joint 17000 to 610000\n",
        "  data['dti_joint<=11'] = 0\n",
        "  data['dti_joint_btw_11_25'] = 0\n",
        "  data['dti_joint_>=25'] = 0\n",
        "  data[\"dti_joint_<=11\"] = np.where(data[\"dti_joint\"]<=11, 1, 0)\n",
        "  data[\"dti_joint_btw_11_25\"] = np.where(np.logical_and(data[\"dti_joint\"]>11, data[\"dti_joint\"]<25), 1, 0)\n",
        "  data[\"dti_joint_>=25\"] = np.where(data[\"dti_joint\"]>=25, 1, 0)\n",
        "  data['annual_inc_joint_<=60k'] = 0\n",
        "  data['annual_inc_joint_btw_60k_160k'] = 0\n",
        "  data['annual_inc_joint_>=160k'] = 0\n",
        "  data[\"annual_inc_joint_<=60k\"] = np.where(data[\"annual_inc_joint\"]<=60000, 1, 0)\n",
        "  data[\"annual_inc_joint_btw_60k_160k\"] = np.where(np.logical_and(data[\"annual_inc_joint\"]>60000, data[\"annual_inc_joint\"]<160000), 1, 0)\n",
        "  data[\"annual_inc_joint_>=160k\"] = np.where(data[\"annual_inc_joint\"]>=160000, 1, 0)\n",
        "  data.drop(['dti_joint'], axis=1, inplace=True)\n",
        "  data.drop(['annual_inc_joint'], axis=1, inplace=True)\n",
        "\n",
        "  # ALL_UTIL --- DONE\n",
        "  # mean = 59.94194301831082, std = 20.286877068939102\n",
        "  # range all_util 0.0 198.0\n",
        "  med_all_util = data['all_util'].median()\n",
        "  data['all_util'] = np.where(data['all_util'].isna(), med_all_util, data['all_util'])\n",
        "  normalize(data, 'all_util')\n",
        "\n",
        "  #MAX_BAL_BC --- DONE\n",
        "  #mean = 5530.700198299035, std = 5485.067629189675\n",
        "  #range 0.0 to 776843.0\n",
        "  med_max_bal_bc = data['max_bal_bc'].median()\n",
        "  data['max_bal_bc'] = np.where(data['max_bal_bc'].isna(), med_max_bal_bc, data['max_bal_bc'])\n",
        "  normalize(data, 'max_bal_bc')\n",
        "\n",
        "  # INQ_FI --- DONE\n",
        "  # mean = 1.0827171374432645, std = 1.6004234179157977\n",
        "  # range is between 0.0 to 28.0\n",
        "  med_inq_fi = data['inq_fi'].median()\n",
        "  data['inq_fi'] = np.where(data['inq_fi'].isna(), med_inq_fi, data['inq_fi'])\n",
        "  normalize(data, 'inq_fi')\n",
        "\n",
        "  # TOTAL_BAL_IL --- DONE\n",
        "  # median = 24915.0\n",
        "  # mean = 36245.95322786763, std = 41851.999075946405\n",
        "  # range 0.0 to 1547285.0\n",
        "  med_total_bal_il = data['total_bal_il'].median()\n",
        "  data['total_bal_il'] = np.where(data['total_bal_il'].isna(), med_total_bal_il, data['total_bal_il'])\n",
        "  normalize(data, 'total_bal_il')\n",
        "\n",
        "  #INQ_LAST_12M --- DONE\n",
        "  #inq_last_12m  mean = 2.411516377369133 std = 2.6141319890986816\n",
        "  # range 0.0 to 40.0\n",
        "  med_inq_last_12m = data['inq_last_12m'].median()\n",
        "  data['inq_last_12m'] = np.where(data['inq_last_12m'].isna(), med_inq_last_12m, data['inq_last_12m'])\n",
        "  normalize(data, 'inq_last_12m')\n",
        "\n",
        "  #TOTAL_CU_TL --- DONE\n",
        "  # range 0.0 to 54.0\n",
        "  # mean = 1.66155052902009, std = 2.883914244639119\n",
        "  med_total_cu_tl = data['total_cu_tl'].median()\n",
        "  data['total_cu_tl'] = np.where(data['total_cu_tl'].isna(), med_total_cu_tl, data['total_cu_tl'])\n",
        "  normalize(data, 'total_cu_tl')\n",
        "  \n",
        "  #-----------------------------------------------------------\n",
        "  #OTHERS\n",
        "  data['tot_coll_amt'] = np.where(data[\"tot_coll_amt\"]==0, 0 ,1)\n",
        "\n",
        "  normalize(data, 'loan_amnt')\n",
        "  normalize(data, 'installment')\n",
        "  normalize(data, 'annual_inc')\n",
        "  normalize(data, 'delinq_2yrs')\n",
        "  normalize(data, 'open_acc')\n",
        "  normalize(data, 'pub_rec')\n",
        "  normalize(data, 'total_acc')\n",
        "  normalize(data, 'acc_now_delinq')\n",
        "  normalize(data, 'tot_cur_bal')\n",
        "  normalize(data, 'acc_open_past_24mths')\n",
        "  normalize(data, 'avg_cur_bal')\n",
        "  normalize(data, 'chargeoff_within_12_mths')\n",
        "  normalize(data, 'delinq_amnt')\n",
        "  normalize(data, 'mort_acc')\n",
        "  normalize(data, 'pub_rec_bankruptcies')\n",
        "  normalize(data, 'tot_hi_cred_lim')\n",
        "  normalize(data, 'total_bal_ex_mort')\n",
        "  normalize(data, 'total_bc_limit')\n",
        "  normalize(data, 'total_il_high_credit_limit')"
      ],
      "execution_count": 0,
      "outputs": []
    },
    {
      "metadata": {
        "id": "P7dN1ATIKPXM",
        "colab_type": "code",
        "colab": {}
      },
      "cell_type": "code",
      "source": [
        "#apply function to training data\n",
        "editData(data)"
      ],
      "execution_count": 0,
      "outputs": []
    },
    {
      "metadata": {
        "id": "noEqbLS6I6x-",
        "colab_type": "code",
        "outputId": "7e0bad96-b5bc-4835-f269-79cb632cf1b0",
        "colab": {
          "base_uri": "https://localhost:8080/",
          "height": 246
        }
      },
      "cell_type": "code",
      "source": [
        "data.head(5)"
      ],
      "execution_count": 0,
      "outputs": [
        {
          "output_type": "execute_result",
          "data": {
            "text/html": [
              "<div>\n",
              "<style scoped>\n",
              "    .dataframe tbody tr th:only-of-type {\n",
              "        vertical-align: middle;\n",
              "    }\n",
              "\n",
              "    .dataframe tbody tr th {\n",
              "        vertical-align: top;\n",
              "    }\n",
              "\n",
              "    .dataframe thead th {\n",
              "        text-align: right;\n",
              "    }\n",
              "</style>\n",
              "<table border=\"1\" class=\"dataframe\">\n",
              "  <thead>\n",
              "    <tr style=\"text-align: right;\">\n",
              "      <th></th>\n",
              "      <th>loan_amnt</th>\n",
              "      <th>term</th>\n",
              "      <th>installment</th>\n",
              "      <th>emp_title</th>\n",
              "      <th>annual_inc</th>\n",
              "      <th>dti</th>\n",
              "      <th>delinq_2yrs</th>\n",
              "      <th>inq_last_6mths</th>\n",
              "      <th>open_acc</th>\n",
              "      <th>pub_rec</th>\n",
              "      <th>...</th>\n",
              "      <th>cr_line_&gt;=1990</th>\n",
              "      <th>cr_line_&gt;=2000</th>\n",
              "      <th>cr_line_&gt;=2010</th>\n",
              "      <th>dti_joint&lt;=11</th>\n",
              "      <th>dti_joint_btw_11_25</th>\n",
              "      <th>dti_joint_&gt;=25</th>\n",
              "      <th>dti_joint_&lt;=11</th>\n",
              "      <th>annual_inc_joint_&lt;=60k</th>\n",
              "      <th>annual_inc_joint_btw_60k_160k</th>\n",
              "      <th>annual_inc_joint_&gt;=160k</th>\n",
              "    </tr>\n",
              "  </thead>\n",
              "  <tbody>\n",
              "    <tr>\n",
              "      <th>0</th>\n",
              "      <td>0.230769</td>\n",
              "      <td>0</td>\n",
              "      <td>0.187613</td>\n",
              "      <td>1</td>\n",
              "      <td>0.005340</td>\n",
              "      <td>0.01743</td>\n",
              "      <td>0.000000</td>\n",
              "      <td>0.000000</td>\n",
              "      <td>0.112360</td>\n",
              "      <td>0.0</td>\n",
              "      <td>...</td>\n",
              "      <td>0</td>\n",
              "      <td>1</td>\n",
              "      <td>0</td>\n",
              "      <td>0</td>\n",
              "      <td>0</td>\n",
              "      <td>0</td>\n",
              "      <td>0</td>\n",
              "      <td>0</td>\n",
              "      <td>0</td>\n",
              "      <td>0</td>\n",
              "    </tr>\n",
              "    <tr>\n",
              "      <th>1</th>\n",
              "      <td>0.487179</td>\n",
              "      <td>1</td>\n",
              "      <td>0.302656</td>\n",
              "      <td>1</td>\n",
              "      <td>0.009424</td>\n",
              "      <td>0.03406</td>\n",
              "      <td>0.000000</td>\n",
              "      <td>0.000000</td>\n",
              "      <td>0.179775</td>\n",
              "      <td>0.0</td>\n",
              "      <td>...</td>\n",
              "      <td>0</td>\n",
              "      <td>1</td>\n",
              "      <td>0</td>\n",
              "      <td>0</td>\n",
              "      <td>0</td>\n",
              "      <td>0</td>\n",
              "      <td>0</td>\n",
              "      <td>0</td>\n",
              "      <td>0</td>\n",
              "      <td>0</td>\n",
              "    </tr>\n",
              "    <tr>\n",
              "      <th>2</th>\n",
              "      <td>0.743590</td>\n",
              "      <td>0</td>\n",
              "      <td>0.648346</td>\n",
              "      <td>1</td>\n",
              "      <td>0.009527</td>\n",
              "      <td>0.00490</td>\n",
              "      <td>0.000000</td>\n",
              "      <td>0.000000</td>\n",
              "      <td>0.056180</td>\n",
              "      <td>0.0</td>\n",
              "      <td>...</td>\n",
              "      <td>1</td>\n",
              "      <td>0</td>\n",
              "      <td>0</td>\n",
              "      <td>0</td>\n",
              "      <td>0</td>\n",
              "      <td>0</td>\n",
              "      <td>0</td>\n",
              "      <td>0</td>\n",
              "      <td>0</td>\n",
              "      <td>0</td>\n",
              "    </tr>\n",
              "    <tr>\n",
              "      <th>3</th>\n",
              "      <td>0.512821</td>\n",
              "      <td>1</td>\n",
              "      <td>0.311295</td>\n",
              "      <td>1</td>\n",
              "      <td>0.012984</td>\n",
              "      <td>0.01619</td>\n",
              "      <td>0.000000</td>\n",
              "      <td>0.166667</td>\n",
              "      <td>0.056180</td>\n",
              "      <td>0.0</td>\n",
              "      <td>...</td>\n",
              "      <td>0</td>\n",
              "      <td>1</td>\n",
              "      <td>0</td>\n",
              "      <td>0</td>\n",
              "      <td>0</td>\n",
              "      <td>0</td>\n",
              "      <td>0</td>\n",
              "      <td>0</td>\n",
              "      <td>0</td>\n",
              "      <td>0</td>\n",
              "    </tr>\n",
              "    <tr>\n",
              "      <th>4</th>\n",
              "      <td>0.301923</td>\n",
              "      <td>0</td>\n",
              "      <td>0.278161</td>\n",
              "      <td>1</td>\n",
              "      <td>0.003717</td>\n",
              "      <td>0.01807</td>\n",
              "      <td>0.025641</td>\n",
              "      <td>0.000000</td>\n",
              "      <td>0.044944</td>\n",
              "      <td>0.0</td>\n",
              "      <td>...</td>\n",
              "      <td>0</td>\n",
              "      <td>0</td>\n",
              "      <td>1</td>\n",
              "      <td>0</td>\n",
              "      <td>0</td>\n",
              "      <td>0</td>\n",
              "      <td>0</td>\n",
              "      <td>0</td>\n",
              "      <td>0</td>\n",
              "      <td>0</td>\n",
              "    </tr>\n",
              "  </tbody>\n",
              "</table>\n",
              "<p>5 rows × 63 columns</p>\n",
              "</div>"
            ],
            "text/plain": [
              "   loan_amnt  term  installment  emp_title  annual_inc      dti  delinq_2yrs  \\\n",
              "0   0.230769     0     0.187613          1    0.005340  0.01743     0.000000   \n",
              "1   0.487179     1     0.302656          1    0.009424  0.03406     0.000000   \n",
              "2   0.743590     0     0.648346          1    0.009527  0.00490     0.000000   \n",
              "3   0.512821     1     0.311295          1    0.012984  0.01619     0.000000   \n",
              "4   0.301923     0     0.278161          1    0.003717  0.01807     0.025641   \n",
              "\n",
              "   inq_last_6mths  open_acc  pub_rec           ...             cr_line_>=1990  \\\n",
              "0        0.000000  0.112360      0.0           ...                          0   \n",
              "1        0.000000  0.179775      0.0           ...                          0   \n",
              "2        0.000000  0.056180      0.0           ...                          1   \n",
              "3        0.166667  0.056180      0.0           ...                          0   \n",
              "4        0.000000  0.044944      0.0           ...                          0   \n",
              "\n",
              "   cr_line_>=2000  cr_line_>=2010  dti_joint<=11  dti_joint_btw_11_25  \\\n",
              "0               1               0              0                    0   \n",
              "1               1               0              0                    0   \n",
              "2               0               0              0                    0   \n",
              "3               1               0              0                    0   \n",
              "4               0               1              0                    0   \n",
              "\n",
              "   dti_joint_>=25  dti_joint_<=11  annual_inc_joint_<=60k  \\\n",
              "0               0               0                       0   \n",
              "1               0               0                       0   \n",
              "2               0               0                       0   \n",
              "3               0               0                       0   \n",
              "4               0               0                       0   \n",
              "\n",
              "   annual_inc_joint_btw_60k_160k  annual_inc_joint_>=160k  \n",
              "0                              0                        0  \n",
              "1                              0                        0  \n",
              "2                              0                        0  \n",
              "3                              0                        0  \n",
              "4                              0                        0  \n",
              "\n",
              "[5 rows x 63 columns]"
            ]
          },
          "metadata": {
            "tags": []
          },
          "execution_count": 136
        }
      ]
    },
    {
      "metadata": {
        "id": "tVAtXZB1GPUI",
        "colab_type": "code",
        "outputId": "32be03f3-26a2-41d8-b1cd-ab1f4893c3c4",
        "colab": {
          "base_uri": "https://localhost:8080/",
          "height": 1225
        }
      },
      "cell_type": "code",
      "source": [
        "data.info() #data after edited"
      ],
      "execution_count": 0,
      "outputs": [
        {
          "output_type": "stream",
          "text": [
            "<class 'pandas.core.frame.DataFrame'>\n",
            "RangeIndex: 537870 entries, 0 to 537869\n",
            "Data columns (total 63 columns):\n",
            "loan_amnt                        537870 non-null float64\n",
            "term                             537870 non-null int64\n",
            "installment                      537870 non-null float64\n",
            "emp_title                        537870 non-null int64\n",
            "annual_inc                       537870 non-null float64\n",
            "dti                              537870 non-null float64\n",
            "delinq_2yrs                      537870 non-null float64\n",
            "inq_last_6mths                   537870 non-null float64\n",
            "open_acc                         537870 non-null float64\n",
            "pub_rec                          537870 non-null float64\n",
            "total_acc                        537870 non-null float64\n",
            "initial_list_status              537870 non-null int64\n",
            "application_type                 537870 non-null int64\n",
            "acc_now_delinq                   537870 non-null float64\n",
            "tot_coll_amt                     537870 non-null int64\n",
            "tot_cur_bal                      537870 non-null float64\n",
            "total_bal_il                     537870 non-null float64\n",
            "il_util                          537870 non-null float64\n",
            "max_bal_bc                       537870 non-null float64\n",
            "all_util                         537870 non-null float64\n",
            "inq_fi                           537870 non-null float64\n",
            "total_cu_tl                      537870 non-null float64\n",
            "inq_last_12m                     537870 non-null float64\n",
            "acc_open_past_24mths             537870 non-null float64\n",
            "avg_cur_bal                      537870 non-null float64\n",
            "chargeoff_within_12_mths         537870 non-null float64\n",
            "delinq_amnt                      537870 non-null float64\n",
            "mort_acc                         537870 non-null float64\n",
            "pub_rec_bankruptcies             537870 non-null float64\n",
            "tot_hi_cred_lim                  537870 non-null float64\n",
            "total_bal_ex_mort                537870 non-null float64\n",
            "total_bc_limit                   537870 non-null float64\n",
            "total_il_high_credit_limit       537870 non-null float64\n",
            "emp_length_<1                    537870 non-null int64\n",
            "emp_length_<=3                   537870 non-null int64\n",
            "emp_length_<=9                   537870 non-null int64\n",
            "emp_length_>=10                  537870 non-null int64\n",
            "HO_RENT                          537870 non-null int64\n",
            "HO_MORT                          537870 non-null int64\n",
            "HO_OWN                           537870 non-null int64\n",
            "VS_source_verified               537870 non-null int64\n",
            "VS_verified                      537870 non-null int64\n",
            "purpose_debt_consolidation       537870 non-null int64\n",
            "purpose_medical                  537870 non-null int64\n",
            "purpose_moving                   537870 non-null int64\n",
            "purpose_car                      537870 non-null int64\n",
            "purpose_house                    537870 non-null int64\n",
            "purpose_vacation                 537870 non-null int64\n",
            "purpose_renewable_energy         537870 non-null int64\n",
            "purpose_small_business           537870 non-null int64\n",
            "purpose_major_purchase           537870 non-null int64\n",
            "purpose_home_improvement         537870 non-null int64\n",
            "purpose_credit_card              537870 non-null int64\n",
            "cr_line_>=1990                   537870 non-null int64\n",
            "cr_line_>=2000                   537870 non-null int64\n",
            "cr_line_>=2010                   537870 non-null int64\n",
            "dti_joint<=11                    537870 non-null int64\n",
            "dti_joint_btw_11_25              537870 non-null int64\n",
            "dti_joint_>=25                   537870 non-null int64\n",
            "dti_joint_<=11                   537870 non-null int64\n",
            "annual_inc_joint_<=60k           537870 non-null int64\n",
            "annual_inc_joint_btw_60k_160k    537870 non-null int64\n",
            "annual_inc_joint_>=160k          537870 non-null int64\n",
            "dtypes: float64(28), int64(35)\n",
            "memory usage: 258.5 MB\n"
          ],
          "name": "stdout"
        }
      ]
    },
    {
      "metadata": {
        "id": "ybU6iOGWGUbt",
        "colab_type": "text"
      },
      "cell_type": "markdown",
      "source": [
        "So, after editing the data we have obtained 63 columns in total, which was previously 45."
      ]
    },
    {
      "metadata": {
        "id": "IkEMb3phRCHJ",
        "colab_type": "text"
      },
      "cell_type": "markdown",
      "source": [
        "#Here goes the training part:\n",
        "We used LDA and MLP for classification. \n",
        "We picked LDA since we have preprocessed all attributes to be non-categorical values."
      ]
    },
    {
      "metadata": {
        "id": "VQ4J8hE2FVyr",
        "colab_type": "code",
        "colab": {}
      },
      "cell_type": "code",
      "source": [
        "from sklearn.model_selection import train_test_split\n",
        "from sklearn.metrics import accuracy_score\n",
        "\n",
        "from sklearn.discriminant_analysis import LinearDiscriminantAnalysis"
      ],
      "execution_count": 0,
      "outputs": []
    },
    {
      "metadata": {
        "id": "SgrS8EF_HHMq",
        "colab_type": "code",
        "outputId": "aa72437a-f4f5-458e-8c87-762f61edbb5d",
        "colab": {
          "base_uri": "https://localhost:8080/",
          "height": 87
        }
      },
      "cell_type": "code",
      "source": [
        "#Split training data to train and validation sets\n",
        "train_data, validation_data, train_lbl, validation_lbl = train_test_split(data, label, test_size=0.2, random_state=0)\n",
        "print('Validation shape ', validation_data.shape)\n",
        "print('Train shape ', train_data.shape)\n",
        "print('Validation label shape ', validation_lbl.shape)\n",
        "print('Train label shape ', train_lbl.shape)"
      ],
      "execution_count": 0,
      "outputs": [
        {
          "output_type": "stream",
          "text": [
            "Validation shape  (107574, 63)\n",
            "Train shape  (430296, 63)\n",
            "Validation label shape  (107574, 1)\n",
            "Train label shape  (430296, 1)\n"
          ],
          "name": "stdout"
        }
      ]
    },
    {
      "metadata": {
        "id": "sQ075JIBFZXu",
        "colab_type": "text"
      },
      "cell_type": "markdown",
      "source": [
        "## MLP\n",
        "We used MLP classifier as neural network. \n",
        "The accuracy score resulted 0.77 for the validation set.\n",
        "\n",
        "The ROC curve has given a score of 0.72 for the validation set."
      ]
    },
    {
      "metadata": {
        "id": "0uhdGy-FprzH",
        "colab_type": "code",
        "outputId": "53536128-6374-4371-c9cc-fcff568df4db",
        "colab": {
          "base_uri": "https://localhost:8080/",
          "height": 90
        }
      },
      "cell_type": "code",
      "source": [
        "from sklearn.neural_network import MLPClassifier\n",
        "testMLP = MLPClassifier()\n",
        "testMLP.fit(train_data, train_lbl)\n",
        "\n",
        "accuracy = testMLP.predict(validation_data)\n",
        "print('Accuracy of MLP: ', accuracy_score(validation_lbl, accuracy))"
      ],
      "execution_count": 0,
      "outputs": [
        {
          "output_type": "stream",
          "text": [
            "/usr/local/lib/python3.6/dist-packages/sklearn/neural_network/multilayer_perceptron.py:916: DataConversionWarning: A column-vector y was passed when a 1d array was expected. Please change the shape of y to (n_samples, ), for example using ravel().\n",
            "  y = column_or_1d(y, warn=True)\n"
          ],
          "name": "stderr"
        },
        {
          "output_type": "stream",
          "text": [
            "Accuracy of MLP:  0.7725844534924796\n"
          ],
          "name": "stdout"
        }
      ]
    },
    {
      "metadata": {
        "id": "T13f7qNDdUoX",
        "colab_type": "code",
        "colab": {}
      },
      "cell_type": "code",
      "source": [
        "y_pred_prob = testMLP.predict_proba(validation_data)[:, 1]"
      ],
      "execution_count": 0,
      "outputs": []
    },
    {
      "metadata": {
        "id": "WNFro7bNdtBz",
        "colab_type": "code",
        "outputId": "08acd01b-8418-466f-80a7-e251c025b0b0",
        "colab": {
          "base_uri": "https://localhost:8080/",
          "height": 294
        }
      },
      "cell_type": "code",
      "source": [
        "#plot the ROC curve\n",
        "%matplotlib inline\n",
        "import matplotlib.pyplot as plt\n",
        "fpr, tpr, thresholds = metrics.roc_curve(validation_lbl, y_pred_prob)\n",
        "plt.plot(fpr, tpr)\n",
        "plt.xlim([0.0, 1.0])\n",
        "plt.ylim([0.0, 1.0])\n",
        "plt.title('ROC curve for credit classifier')\n",
        "plt.xlabel('False Positive Rate (1 - Specificity)')\n",
        "plt.ylabel('True Positive Rate (Sensitivity)')\n",
        "plt.grid(True)"
      ],
      "execution_count": 0,
      "outputs": [
        {
          "output_type": "display_data",
          "data": {
            "image/png": "[encoded data removed]",
            "text/plain": [
              "<matplotlib.figure.Figure at 0x7f4582837e48>"
            ]
          },
          "metadata": {
            "tags": []
          }
        }
      ]
    },
    {
      "metadata": {
        "id": "RltEw0G3eXLT",
        "colab_type": "code",
        "outputId": "241c5684-b358-4300-e074-d771d5ff2f32",
        "colab": {
          "base_uri": "https://localhost:8080/",
          "height": 35
        }
      },
      "cell_type": "code",
      "source": [
        "# calculate the area under the ROC curve score\n",
        "print(metrics.roc_auc_score(validation_lbl, y_pred_prob))"
      ],
      "execution_count": 0,
      "outputs": [
        {
          "output_type": "stream",
          "text": [
            "0.7230713570294972\n"
          ],
          "name": "stdout"
        }
      ]
    },
    {
      "metadata": {
        "id": "z3A6wCJfFXUE",
        "colab_type": "text"
      },
      "cell_type": "markdown",
      "source": [
        "## LDA\n",
        "We used Linear discriminant analysis, since after the preprocessing all our data has become continuous.\n",
        "\n",
        "The accuracy score resulted 0.77 in the validation set.\n",
        "\n",
        "The ROC curve performance was 0.71 for the validation set."
      ]
    },
    {
      "metadata": {
        "id": "5QMR48nCqU2g",
        "colab_type": "code",
        "outputId": "3e855467-3b21-4461-c4fa-625a7461dfd4",
        "colab": {
          "base_uri": "https://localhost:8080/",
          "height": 125
        }
      },
      "cell_type": "code",
      "source": [
        "lda = LinearDiscriminantAnalysis()\n",
        "lda.fit(train_data, train_lbl)\n",
        "\n",
        "lda_pred = lda.predict(validation_data)\n",
        "print('Accuracy of Multivariate Gaussian Bayes using shared covariance matrix (LDA) on validation set: ', accuracy_score(validation_lbl, lda_pred))"
      ],
      "execution_count": 0,
      "outputs": [
        {
          "output_type": "stream",
          "text": [
            "/usr/local/lib/python3.6/dist-packages/sklearn/utils/validation.py:761: DataConversionWarning: A column-vector y was passed when a 1d array was expected. Please change the shape of y to (n_samples, ), for example using ravel().\n",
            "  y = column_or_1d(y, warn=True)\n"
          ],
          "name": "stderr"
        },
        {
          "output_type": "stream",
          "text": [
            "Accuracy of Multivariate Gaussian Bayes using shared covariance matrix (LDA) on validation set:  0.7728912190678044\n"
          ],
          "name": "stdout"
        },
        {
          "output_type": "stream",
          "text": [
            "/usr/local/lib/python3.6/dist-packages/sklearn/discriminant_analysis.py:388: UserWarning: Variables are collinear.\n",
            "  warnings.warn(\"Variables are collinear.\")\n"
          ],
          "name": "stderr"
        }
      ]
    },
    {
      "metadata": {
        "id": "ZOofVrhAopJg",
        "colab_type": "code",
        "colab": {}
      },
      "cell_type": "code",
      "source": [
        "y_pred_prob = lda.predict_proba(validation_data)[:, 1]"
      ],
      "execution_count": 0,
      "outputs": []
    },
    {
      "metadata": {
        "id": "jBpfVA1uosUP",
        "colab_type": "code",
        "outputId": "7d9828f1-d135-4286-a936-3f58fc124338",
        "colab": {
          "base_uri": "https://localhost:8080/",
          "height": 293
        }
      },
      "cell_type": "code",
      "source": [
        "#plot the ROC curve\n",
        "%matplotlib inline\n",
        "import matplotlib.pyplot as plt\n",
        "fpr, tpr, thresholds = metrics.roc_curve(validation_lbl, y_pred_prob)\n",
        "plt.plot(fpr, tpr)\n",
        "plt.xlim([0.0, 1.0])\n",
        "plt.ylim([0.0, 1.0])\n",
        "plt.title('ROC curve for credit classifier')\n",
        "plt.xlabel('False Positive Rate (1 - Specificity)')\n",
        "plt.ylabel('True Positive Rate (Sensitivity)')\n",
        "plt.grid(True)"
      ],
      "execution_count": 0,
      "outputs": [
        {
          "output_type": "display_data",
          "data": {
            "image/png": "[encoded data removed]",
            "text/plain": [
              "<matplotlib.figure.Figure at 0x7f8760169a58>"
            ]
          },
          "metadata": {
            "tags": []
          }
        }
      ]
    },
    {
      "metadata": {
        "id": "dsWO3D_Iot8K",
        "colab_type": "code",
        "outputId": "c5477461-e84c-4372-a371-52e41cad55b7",
        "colab": {
          "base_uri": "https://localhost:8080/",
          "height": 34
        }
      },
      "cell_type": "code",
      "source": [
        "# calculate the area under the ROC curve score\n",
        "print(metrics.roc_auc_score(validation_lbl, y_pred_prob))"
      ],
      "execution_count": 0,
      "outputs": [
        {
          "output_type": "stream",
          "text": [
            "0.713036297005929\n"
          ],
          "name": "stdout"
        }
      ]
    },
    {
      "metadata": {
        "id": "0uZGMiJJ_LRt",
        "colab_type": "text"
      },
      "cell_type": "markdown",
      "source": [
        "## Naive Bayes"
      ]
    },
    {
      "metadata": {
        "id": "FAxEkdAv-qFn",
        "colab_type": "code",
        "outputId": "e5da97fb-91ce-44da-f004-2390637adbc6",
        "colab": {
          "base_uri": "https://localhost:8080/",
          "height": 107
        }
      },
      "cell_type": "code",
      "source": [
        "from sklearn.naive_bayes import GaussianNB\n",
        "gaussianNB = GaussianNB()\n",
        "gaussianNB.fit(train_data, train_lbl)\n",
        "\n",
        "predicted1 = gaussianNB.predict(validation_data)\n",
        "print (predicted1)\n",
        "\n",
        "print('Accuracy of Gaussian Naive Bayes: ', accuracy_score(validation_lbl, predicted1))"
      ],
      "execution_count": 0,
      "outputs": [
        {
          "output_type": "stream",
          "text": [
            "/usr/local/lib/python3.6/dist-packages/sklearn/utils/validation.py:761: DataConversionWarning: A column-vector y was passed when a 1d array was expected. Please change the shape of y to (n_samples, ), for example using ravel().\n",
            "  y = column_or_1d(y, warn=True)\n"
          ],
          "name": "stderr"
        },
        {
          "output_type": "stream",
          "text": [
            "[-1 -1 -1 ... -1  1 -1]\n",
            "Accuracy of Gaussian Naive Bayes:  0.717106363991299\n"
          ],
          "name": "stdout"
        }
      ]
    },
    {
      "metadata": {
        "id": "dt1CuH33CQoM",
        "colab_type": "code",
        "colab": {}
      },
      "cell_type": "code",
      "source": [
        "nb_pred_prob = gaussianNB.predict_proba(validation_data)[:, 1]"
      ],
      "execution_count": 0,
      "outputs": []
    },
    {
      "metadata": {
        "id": "2iTL3Q4nCXqJ",
        "colab_type": "code",
        "outputId": "77b90af9-eccb-44c9-9a74-133bec185535",
        "colab": {
          "base_uri": "https://localhost:8080/",
          "height": 293
        }
      },
      "cell_type": "code",
      "source": [
        "#plot the ROC curve\n",
        "%matplotlib inline\n",
        "import matplotlib.pyplot as plt\n",
        "fpr, tpr, thresholds = metrics.roc_curve(validation_lbl, nb_pred_prob)\n",
        "plt.plot(fpr, tpr)\n",
        "plt.xlim([0.0, 1.0])\n",
        "plt.ylim([0.0, 1.0])\n",
        "plt.title('ROC curve for credit classifier')\n",
        "plt.xlabel('False Positive Rate (1 - Specificity)')\n",
        "plt.ylabel('True Positive Rate (Sensitivity)')\n",
        "plt.grid(True)"
      ],
      "execution_count": 0,
      "outputs": [
        {
          "output_type": "display_data",
          "data": {
            "image/png": "[encoded data removed]",
            "text/plain": [
              "<matplotlib.figure.Figure at 0x7f873ec57550>"
            ]
          },
          "metadata": {
            "tags": []
          }
        }
      ]
    },
    {
      "metadata": {
        "id": "C9LHCODsCec2",
        "colab_type": "code",
        "outputId": "d251426b-474f-407d-bd3a-49b1004781ab",
        "colab": {
          "base_uri": "https://localhost:8080/",
          "height": 34
        }
      },
      "cell_type": "code",
      "source": [
        "# calculate the area under the ROC curve score\n",
        "print(metrics.roc_auc_score(validation_lbl, nb_pred_prob))"
      ],
      "execution_count": 0,
      "outputs": [
        {
          "output_type": "stream",
          "text": [
            "0.6425294772245811\n"
          ],
          "name": "stdout"
        }
      ]
    },
    {
      "metadata": {
        "id": "HMMPNAtg_T2r",
        "colab_type": "text"
      },
      "cell_type": "markdown",
      "source": [
        "## Decision Tree"
      ]
    },
    {
      "metadata": {
        "id": "OV9BTGwI_TfP",
        "colab_type": "code",
        "colab": {}
      },
      "cell_type": "code",
      "source": [
        "from sklearn.tree import DecisionTreeClassifier\n",
        "dtree1 = DecisionTreeClassifier(min_samples_split=7, max_depth=20) #decision with chosen parameters\n",
        "dtree1 = dtree1.fit(train_data, train_lbl) #train decision tree with training set"
      ],
      "execution_count": 0,
      "outputs": []
    },
    {
      "metadata": {
        "id": "BKBQjL50_ez8",
        "colab_type": "code",
        "outputId": "9fded9f4-ada4-4cab-ecf3-18e39f1b3c2d",
        "colab": {
          "base_uri": "https://localhost:8080/",
          "height": 34
        }
      },
      "cell_type": "code",
      "source": [
        "accuracy = dtree1.predict(validation_data)\n",
        "print('Accuracy of Dtree1: ', accuracy_score(validation_lbl, accuracy))"
      ],
      "execution_count": 0,
      "outputs": [
        {
          "output_type": "stream",
          "text": [
            "Accuracy of Dtree1:  0.7236971758975217\n"
          ],
          "name": "stdout"
        }
      ]
    },
    {
      "metadata": {
        "id": "jvsFw10HB5Gk",
        "colab_type": "code",
        "colab": {}
      },
      "cell_type": "code",
      "source": [
        "dt_pred_prob = dtree1.predict_proba(validation_data)[:, 1]"
      ],
      "execution_count": 0,
      "outputs": []
    },
    {
      "metadata": {
        "id": "wMF5srqXB7Nr",
        "colab_type": "code",
        "outputId": "f94add19-0a7e-4014-b380-f54f2f806bad",
        "colab": {
          "base_uri": "https://localhost:8080/",
          "height": 293
        }
      },
      "cell_type": "code",
      "source": [
        "#plot the ROC curve\n",
        "%matplotlib inline\n",
        "import matplotlib.pyplot as plt\n",
        "fpr, tpr, thresholds = metrics.roc_curve(validation_lbl, dt_pred_prob)\n",
        "plt.plot(fpr, tpr)\n",
        "plt.xlim([0.0, 1.0])\n",
        "plt.ylim([0.0, 1.0])\n",
        "plt.title('ROC curve for credit classifier')\n",
        "plt.xlabel('False Positive Rate (1 - Specificity)')\n",
        "plt.ylabel('True Positive Rate (Sensitivity)')\n",
        "plt.grid(True)"
      ],
      "execution_count": 0,
      "outputs": [
        {
          "output_type": "display_data",
          "data": {
            "image/png": "[encoded data removed]",
            "text/plain": [
              "<matplotlib.figure.Figure at 0x7f873de1ee10>"
            ]
          },
          "metadata": {
            "tags": []
          }
        }
      ]
    },
    {
      "metadata": {
        "id": "EReeOiG3CEnf",
        "colab_type": "code",
        "outputId": "ae288a15-6250-4270-a20e-99d3a6c0ddd8",
        "colab": {
          "base_uri": "https://localhost:8080/",
          "height": 34
        }
      },
      "cell_type": "code",
      "source": [
        "# calculate the area under the ROC curve score\n",
        "print(metrics.roc_auc_score(validation_lbl, dt_pred_prob))"
      ],
      "execution_count": 0,
      "outputs": [
        {
          "output_type": "stream",
          "text": [
            "0.5762491534323329\n"
          ],
          "name": "stdout"
        }
      ]
    },
    {
      "metadata": {
        "id": "yw1a7t_jgubm",
        "colab_type": "text"
      },
      "cell_type": "markdown",
      "source": [
        "## Performances of different classifiers\n",
        "\n",
        "We tried different classifiers and they all gave different scores using **accuracy_score** function for the validation set.\n",
        "\n",
        "Accuracy_scores of the data didn't help deciding which classifier would be more beneficial, since almost all of them were similar scores.\n",
        "\n",
        "We tried MLP, LDA, Decision tree and naive bayes classifiers.\n",
        "\n",
        "Among the 4 classifiers, the LDA and MLP have given the best scores when ROC curve is used as performance metrics.\n",
        "MLP has a slight disadvantage of running time compared to LDA, however it gave slightly better results."
      ]
    },
    {
      "metadata": {
        "id": "wsimrLHfxBte",
        "colab_type": "text"
      },
      "cell_type": "markdown",
      "source": [
        "## Read test files\n",
        "Here we added two options for test data. First one is if the data is in csv form, the second one is if the data is in excel file.\n",
        "Then if you apply editData function, the test data will be preprocessed.\n",
        "\n",
        "We haven't run the code after here, since we don't have test labels."
      ]
    },
    {
      "metadata": {
        "id": "INTuIJQbwcxu",
        "colab_type": "code",
        "colab": {}
      },
      "cell_type": "code",
      "source": [
        "#If the test file is in csv format\n",
        "testData = pd.read_csv('test-credit.csv') #change name if necessary\n",
        "testLabel = pd.read_csv('') #insert name here"
      ],
      "execution_count": 0,
      "outputs": []
    },
    {
      "metadata": {
        "id": "vG2OpVVyw1id",
        "colab_type": "code",
        "colab": {}
      },
      "cell_type": "code",
      "source": [
        "#If the test file is in excel format\n",
        "testData = pd.read_excel('test-credit.xlsx') #change name if necessary\n",
        "testLabel = pd.read_excel('') #insert name here"
      ],
      "execution_count": 0,
      "outputs": []
    },
    {
      "metadata": {
        "id": "zj8sugGRB9x6",
        "colab_type": "code",
        "colab": {}
      },
      "cell_type": "code",
      "source": [
        "#edit test data\n",
        "editData(testData)"
      ],
      "execution_count": 0,
      "outputs": []
    },
    {
      "metadata": {
        "id": "02Cu4oLxoywl",
        "colab_type": "code",
        "colab": {}
      },
      "cell_type": "code",
      "source": [
        "MLPtest = testMLP.predict(testData) #check accuracy score of MLP\n",
        "print('Accuracy of MLP: ', accuracy_score(testLabel, MLPtest))"
      ],
      "execution_count": 0,
      "outputs": []
    },
    {
      "metadata": {
        "id": "A9M8bRY4pgsl",
        "colab_type": "code",
        "colab": {}
      },
      "cell_type": "code",
      "source": [
        "test_pred_prob = testMLP.predict_proba(testData)[:, 1]"
      ],
      "execution_count": 0,
      "outputs": []
    },
    {
      "metadata": {
        "id": "0Ait1OLTphjq",
        "colab_type": "code",
        "colab": {}
      },
      "cell_type": "code",
      "source": [
        "#plot the ROC curve\n",
        "%matplotlib inline\n",
        "import matplotlib.pyplot as plt\n",
        "fpr, tpr, thresholds = metrics.roc_curve(testLabel, test_pred_prob)\n",
        "plt.plot(fpr, tpr)\n",
        "plt.xlim([0.0, 1.0])\n",
        "plt.ylim([0.0, 1.0])\n",
        "plt.title('ROC curve for credit classifier')\n",
        "plt.xlabel('False Positive Rate (1 - Specificity)')\n",
        "plt.ylabel('True Positive Rate (Sensitivity)')\n",
        "plt.grid(True)"
      ],
      "execution_count": 0,
      "outputs": []
    },
    {
      "metadata": {
        "id": "Vs0XVVHophtj",
        "colab_type": "code",
        "colab": {}
      },
      "cell_type": "code",
      "source": [
        "# calculate the area under the ROC curve score\n",
        "print(metrics.roc_auc_score(testLabel, test_pred_prob))"
      ],
      "execution_count": 0,
      "outputs": []
    },
    {
      "metadata": {
        "id": "8pK_KCsTo7w_",
        "colab_type": "code",
        "colab": {}
      },
      "cell_type": "code",
      "source": [
        "lda_pred = lda.predict(testData) #check accuracy of lda\n",
        "print('Accuracy of LDA: ', accuracy_score(testLabel, lda_pred))"
      ],
      "execution_count": 0,
      "outputs": []
    },
    {
      "metadata": {
        "id": "3P-SDxaZpBUT",
        "colab_type": "code",
        "colab": {}
      },
      "cell_type": "code",
      "source": [
        "test_pred_prob = lda.predict_proba(testData)[:, 1]"
      ],
      "execution_count": 0,
      "outputs": []
    },
    {
      "metadata": {
        "id": "RzPe3C-rpDXd",
        "colab_type": "code",
        "colab": {}
      },
      "cell_type": "code",
      "source": [
        "#plot the ROC curve\n",
        "%matplotlib inline\n",
        "import matplotlib.pyplot as plt\n",
        "fpr, tpr, thresholds = metrics.roc_curve(testLabel, test_pred_prob)\n",
        "plt.plot(fpr, tpr)\n",
        "plt.xlim([0.0, 1.0])\n",
        "plt.ylim([0.0, 1.0])\n",
        "plt.title('ROC curve for credit classifier')\n",
        "plt.xlabel('False Positive Rate (1 - Specificity)')\n",
        "plt.ylabel('True Positive Rate (Sensitivity)')\n",
        "plt.grid(True)"
      ],
      "execution_count": 0,
      "outputs": []
    },
    {
      "metadata": {
        "id": "1jeZUJ2hpPXO",
        "colab_type": "code",
        "colab": {}
      },
      "cell_type": "code",
      "source": [
        "# calculate the area under the ROC curve score\n",
        "print(metrics.roc_auc_score(testLabel, test_pred_prob))"
      ],
      "execution_count": 0,
      "outputs": []
    },
    {
      "metadata": {
        "id": "hQS8Yzsns9ra",
        "colab_type": "text"
      },
      "cell_type": "markdown",
      "source": [
        "# Summary\n",
        "\n",
        "In this project, we have worked with a dataset to decide if the applicants are suitable to be given credit.\n",
        "We have done a lot of preprocessing including adding dummy variables and normalization.\n",
        "\n",
        "We have splitted the given data into two parts: train and validation.\n",
        "\n",
        "We have tried various classifiers, including decision tree, gaussian Naive bayes, MLP and LDA.  From these classifiers, we have selected the 2 classifiers that gave the best performances: MLP and LDA.\n",
        "\n",
        "Then, we plotted the ROC curve of the predictions for the validation set.\n",
        "\n",
        "The performance of MLP was 0.72 while LDA had the performance of 0.71 for the validation set.\n",
        "Which makes MLP slightly better then LDA.\n"
      ]
    },
    {
      "metadata": {
        "id": "DltmFW7msKCf",
        "colab_type": "text"
      },
      "cell_type": "markdown",
      "source": [
        "* As reference for using ROC curve:\n",
        "https://github.com/justmarkham/scikit-learn-videos/blob/master/09_classification_metrics.ipynb\n"
      ]
    }
  ]
}
